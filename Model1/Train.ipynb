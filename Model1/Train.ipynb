version https://git-lfs.github.com/spec/v1
oid sha256:4b7d69004b70be0ae817d24c741f7065be77d9dae1137f894da8292b59277753
size 3187829
